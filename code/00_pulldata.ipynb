{
 "cells": [
  {
   "cell_type": "code",
   "execution_count": 1,
   "id": "30f8e63c",
   "metadata": {},
   "outputs": [],
   "source": [
    "## Read in packages\n",
    "\n",
    "import pandas as pd"
   ]
  },
  {
   "cell_type": "code",
   "execution_count": 2,
   "id": "19725b2b",
   "metadata": {},
   "outputs": [
    {
     "name": "stdout",
     "output_type": "stream",
     "text": [
      "Stored 'data_set_demo' (DataFrame)\n",
      "Stored 'data_set_abc' (DataFrame)\n"
     ]
    }
   ],
   "source": [
    "## Pull in two sheets\n",
    "\n",
    "data_set_demo = pd.read_excel(\"../data/qss20_w22_sipdata_disability/Dartmouth_Data_Set.xlsx\",\n",
    "                         sheet_name = \"Demographics\")\n",
    "\n",
    "data_set_abc = pd.read_excel(\"../data/qss20_w22_sipdata_disability/Dartmouth_Data_Set.xlsx\",\n",
    "                         sheet_name = \"ABC Data\")\n",
    "\n",
    "## Save for next notebook\n",
    "%store data_set_demo\n",
    "%store data_set_abc"
   ]
  },
  {
   "cell_type": "code",
   "execution_count": null,
   "id": "b6f70fb4",
   "metadata": {},
   "outputs": [],
   "source": []
  }
 ],
 "metadata": {
  "kernelspec": {
   "display_name": "Python 3 (ipykernel)",
   "language": "python",
   "name": "python3"
  },
  "language_info": {
   "codemirror_mode": {
    "name": "ipython",
    "version": 3
   },
   "file_extension": ".py",
   "mimetype": "text/x-python",
   "name": "python",
   "nbconvert_exporter": "python",
   "pygments_lexer": "ipython3",
   "version": "3.9.7"
  }
 },
 "nbformat": 4,
 "nbformat_minor": 5
}
