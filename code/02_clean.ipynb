{
 "cells": [
  {
   "cell_type": "code",
   "execution_count": 16,
   "id": "3e7f2220",
   "metadata": {},
   "outputs": [],
   "source": [
    "## Load packages and data\n",
    "\n",
    "import pandas as pd\n",
    "import numpy as np\n",
    "import re \n",
    "import datetime as dt\n",
    "\n",
    "\n",
    "%store -r merged_df_demo_abc\n",
    "%store -r not_merged_df_demo_abc"
   ]
  },
  {
   "cell_type": "code",
   "execution_count": 17,
   "id": "a0226ae8",
   "metadata": {},
   "outputs": [
    {
     "name": "stdout",
     "output_type": "stream",
     "text": [
      "Stored 'merged_df_demo_abc_selected' (DataFrame)\n"
     ]
    }
   ],
   "source": [
    "## Select columns we want to focus on\n",
    "## only keeping the columns we want\n",
    "\n",
    "columns_to_keep = [\"Local ID\", 'Region', \"Date of birth\", \"Gender\", \"Race\", \"Ethnicity\", \n",
    "                   'Irritability/Agitation', 'Date Reviewed']\n",
    "\n",
    "merged_df_demo_abc_selected = merged_df_demo_abc[columns_to_keep].copy()\n",
    "merged_df_demo_abc_selected.dtypes\n",
    "\n",
    "merged_df_demo_abc_selected['Local ID'] = merged_df_demo_abc_selected['Local ID'].astype(str)\n",
    "\n",
    "%store merged_df_demo_abc_selected"
   ]
  },
  {
   "cell_type": "code",
   "execution_count": 18,
   "id": "2900a333",
   "metadata": {
    "scrolled": true
   },
   "outputs": [
    {
     "name": "stdout",
     "output_type": "stream",
     "text": [
      "19    19425\n",
      "3        32\n",
      "10        4\n",
      "Name: date_length, dtype: int64\n",
      "(36, 9)\n"
     ]
    }
   ],
   "source": [
    "## Select only dates that were entered in correctly based on length\n",
    "merged_df_demo_abc_selected[\"Date Reviewed\"].str.len().unique()\n",
    "\n",
    "merged_df_demo_abc_selected[\"date_length\"] = merged_df_demo_abc_selected[\"Date Reviewed\"].astype(str).str.len()\n",
    "print(merged_df_demo_abc_selected[\"date_length\"].value_counts())\n",
    "\n",
    "# Show the number of rows in which the value of Date Reviewed is misformatted - 19 is most popular\n",
    "print(merged_df_demo_abc_selected[merged_df_demo_abc_selected['date_length']!=19].shape)\n",
    "\n",
    "## Only keep correctly formatted dates\n",
    "merged_date_cleaned = merged_df_demo_abc_selected[merged_df_demo_abc_selected['date_length']==19].reset_index()\n",
    "merged_date_cleaned.shape\n",
    "\n",
    "merged_date_cleaned['date_reviewed'] = pd.to_datetime(merged_date_cleaned['Date Reviewed'])\n"
   ]
  },
  {
   "cell_type": "code",
   "execution_count": 19,
   "id": "f3aac20f",
   "metadata": {},
   "outputs": [
    {
     "data": {
      "text/plain": [
       "(16241, 12)"
      ]
     },
     "execution_count": 19,
     "metadata": {},
     "output_type": "execute_result"
    }
   ],
   "source": [
    "## Subset to beginning of 2018 to leave out mis-entered date (like 2012 for person born after 2012)\n",
    "\n",
    "merged_date_cleaned_new = merged_date_cleaned[merged_date_cleaned['date_reviewed'] > \n",
    "                                          pd.to_datetime('2018-01-01')].reset_index()\n",
    "\n",
    "merged_date_cleaned_new.shape\n"
   ]
  },
  {
   "cell_type": "code",
   "execution_count": 20,
   "id": "21b1227e",
   "metadata": {
    "scrolled": true
   },
   "outputs": [
    {
     "data": {
      "text/plain": [
       "white_non_hispanic    8400\n",
       "other                 3915\n",
       "black_non_hispanic    3081\n",
       "hispanic               845\n",
       "Name: race_clean, dtype: int64"
      ]
     },
     "execution_count": 20,
     "metadata": {},
     "output_type": "execute_result"
    }
   ],
   "source": [
    "## Clean race\n",
    "\n",
    "merged_date_cleaned_new['race'] = merged_date_cleaned_new.Race.str.lower()\n",
    "\n",
    "## Regex to detect when multiple races are listed\n",
    "biracial_pattern = r'.*and.*|.*\\/.*|.*,.*|other: biracial'\n",
    "\n",
    "## Find original 'Race' categories that are multiracial\n",
    "biracial_findall = [race for race in merged_date_cleaned_new.race if re.findall(biracial_pattern, race)]\n",
    "\n",
    "## Categorize remaining multiracial categories as 'other'\n",
    "merged_date_cleaned_new['race_clean'] = np.where((merged_date_cleaned_new.race.isin(biracial_findall)) |\n",
    "                                                (merged_date_cleaned_new.race.isin(['other: mixed race',\n",
    "                                                                                  'other: bi-racial',\n",
    "                                                                                  'other: hispanic - puerto rican'])),\n",
    "                                                'other', merged_date_cleaned_new.race)\n",
    "\n",
    "## Clean to white non-hispanic, black non-hispanic, hispanic (any), other -- use str.contains\n",
    "## Set as Hispanic to make sure 'white' is white non-Hispanic\n",
    "race_dict = [(merged_date_cleaned_new.race.str.contains('white')) & \n",
    "             (merged_date_cleaned_new.race != 'other: white, hispanic') &\n",
    "             (merged_date_cleaned_new.Ethnicity == 'Not of Hispanic origin') & \n",
    "             (merged_date_cleaned_new.race_clean != 'other') | \n",
    "             (merged_date_cleaned_new.race == 'other: caucasian') & \n",
    "             (merged_date_cleaned_new.Ethnicity == 'Not of Hispanic origin'),\n",
    "             (merged_date_cleaned_new.race.str.contains('black or african american')) & \n",
    "             (merged_date_cleaned_new.Ethnicity == 'Not of Hispanic origin') & \n",
    "             (merged_date_cleaned_new.race_clean != 'other'), \n",
    "             (merged_date_cleaned_new.race.str.contains('hispanic')) & \n",
    "             (merged_date_cleaned_new.Ethnicity == 'Hispanic - specific origin not specified') &\n",
    "             (merged_date_cleaned_new.race_clean != 'other')| \n",
    "             (merged_date_cleaned_new.race.isin(['other: latina', 'other: latino'])) & \n",
    "             (merged_date_cleaned_new.Ethnicity == 'Hispanic - specific origin not specified') & \n",
    "             (merged_date_cleaned_new.race_clean != 'other')]\n",
    "              \n",
    "\n",
    "race_codeto = ['white_non_hispanic','black_non_hispanic', 'hispanic']\n",
    "\n",
    "merged_date_cleaned_new['race_clean'] = np.select(race_dict, race_codeto, default = 'other')\n",
    "\n",
    "## Create binary variable for regression\n",
    "merged_date_cleaned_new['is_black'] = merged_date_cleaned_new['race_clean'] == 'black_non_hispanic'\n",
    "                                                                                \n",
    "## Show count\n",
    "merged_date_cleaned_new.race_clean.value_counts()"
   ]
  },
  {
   "cell_type": "code",
   "execution_count": 21,
   "id": "6a84a1ba",
   "metadata": {},
   "outputs": [
    {
     "data": {
      "text/plain": [
       "Male      10984\n",
       "Female     5205\n",
       "Other        52\n",
       "Name: gender_clean, dtype: int64"
      ]
     },
     "execution_count": 21,
     "metadata": {},
     "output_type": "execute_result"
    }
   ],
   "source": [
    "## Clean gender\n",
    "\n",
    "merged_date_cleaned_new['gender_clean'] = np.where(merged_date_cleaned_new.Gender.str.contains('Other'), 'Other', merged_date_cleaned_new.Gender)\n",
    "\n",
    "## Create binary variable for regression\n",
    "merged_date_cleaned_new['is_male'] = merged_date_cleaned_new['gender_clean'] == 'Male'\n",
    "\n",
    "merged_date_cleaned_new.gender_clean.value_counts()"
   ]
  },
  {
   "cell_type": "code",
   "execution_count": 22,
   "id": "dbbda3ef",
   "metadata": {},
   "outputs": [
    {
     "name": "stdout",
     "output_type": "stream",
     "text": [
      "(30, 18)\n"
     ]
    }
   ],
   "source": [
    "## Drop rows where the irritability score is invalid\n",
    "\n",
    "merged_date_cleaned_new['irrit_score'] = merged_date_cleaned_new['Irritability/Agitation'].copy()\n",
    "print(merged_date_cleaned_new[merged_date_cleaned_new['irrit_score'].isna()].shape)\n",
    "\n",
    "merged_date_cleaned_new = merged_date_cleaned_new[~merged_date_cleaned_new['irrit_score'].isna()]"
   ]
  },
  {
   "cell_type": "code",
   "execution_count": 23,
   "id": "b0235d2b",
   "metadata": {},
   "outputs": [],
   "source": [
    "## Get black and white only\n",
    "\n",
    "bw_only = merged_date_cleaned_new[merged_date_cleaned_new['race_clean'].isin(['black_non_hispanic', 'white_non_hispanic'])].copy()\n"
   ]
  },
  {
   "cell_type": "code",
   "execution_count": 24,
   "id": "07f6b1a0",
   "metadata": {},
   "outputs": [],
   "source": [
    "## Get male and female only\n",
    "\n",
    "mf_only = merged_date_cleaned_new[merged_date_cleaned_new['gender_clean'].isin(['Male', 'Female'])].copy()\n"
   ]
  },
  {
   "cell_type": "code",
   "execution_count": 25,
   "id": "0526b0da",
   "metadata": {
    "scrolled": true
   },
   "outputs": [
    {
     "name": "stdout",
     "output_type": "stream",
     "text": [
      "Stored 'merged_date_cleaned_new' (DataFrame)\n",
      "Stored 'bw_only' (DataFrame)\n",
      "Stored 'mf_only' (DataFrame)\n"
     ]
    }
   ],
   "source": [
    "%store merged_date_cleaned_new\n",
    "%store bw_only\n",
    "%store mf_only"
   ]
  },
  {
   "cell_type": "code",
   "execution_count": null,
   "id": "8dc906ed",
   "metadata": {},
   "outputs": [],
   "source": []
  },
  {
   "cell_type": "code",
   "execution_count": null,
   "id": "ffd7e6d3",
   "metadata": {},
   "outputs": [],
   "source": []
  }
 ],
 "metadata": {
  "kernelspec": {
   "display_name": "Python 3 (ipykernel)",
   "language": "python",
   "name": "python3"
  },
  "language_info": {
   "codemirror_mode": {
    "name": "ipython",
    "version": 3
   },
   "file_extension": ".py",
   "mimetype": "text/x-python",
   "name": "python",
   "nbconvert_exporter": "python",
   "pygments_lexer": "ipython3",
   "version": "3.9.7"
  }
 },
 "nbformat": 4,
 "nbformat_minor": 5
}
