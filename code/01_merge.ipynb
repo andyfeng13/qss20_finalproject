{
 "cells": [
  {
   "cell_type": "code",
   "execution_count": 2,
   "id": "389dcf4f",
   "metadata": {},
   "outputs": [],
   "source": [
    "## Load packages and data\n",
    "\n",
    "import pandas as pd\n",
    "\n",
    "%store -r data_set_demo\n",
    "%store -r data_set_abc"
   ]
  },
  {
   "cell_type": "code",
   "execution_count": 3,
   "id": "a5f39ea2",
   "metadata": {},
   "outputs": [],
   "source": [
    "## Make copy for use\n",
    "\n",
    "df_demo = data_set_demo.copy()\n",
    "df_abc = data_set_abc.copy()"
   ]
  },
  {
   "cell_type": "code",
   "execution_count": 6,
   "id": "2f82487f",
   "metadata": {},
   "outputs": [
    {
     "name": "stdout",
     "output_type": "stream",
     "text": [
      "(4986, 48)\n",
      "(26056, 11)\n"
     ]
    }
   ],
   "source": [
    "## Pre-diagnostics before inner merge\n",
    "print(df_demo.shape)\n",
    "print(df_abc.shape)\n",
    "\n",
    "\n"
   ]
  },
  {
   "cell_type": "code",
   "execution_count": 10,
   "id": "a3eff39b",
   "metadata": {},
   "outputs": [
    {
     "name": "stdout",
     "output_type": "stream",
     "text": [
      "<class 'str'>\n",
      "<class 'str'>\n"
     ]
    }
   ],
   "source": [
    "## Convert ID to same type str -- some have letters with numbers\n",
    "df_demo[\"Local ID\"] = df_demo[\"Local ID\"].astype(str)\n",
    "df_abc[\"Local ID\"] = df_abc[\"Local ID\"].astype(str)\n",
    "\n",
    "print(type(df_demo[\"Local ID\"][0]))\n",
    "print(type(df_abc[\"Local ID\"][0]))"
   ]
  },
  {
   "cell_type": "code",
   "execution_count": 11,
   "id": "ea30f9c8",
   "metadata": {},
   "outputs": [
    {
     "name": "stdout",
     "output_type": "stream",
     "text": [
      "(26220, 58)\n",
      "(19461, 58)\n",
      "(164, 58)\n",
      "(6595, 58)\n"
     ]
    }
   ],
   "source": [
    "## Merge on ID\n",
    "all_merged_df_demo_abc = df_demo.merge(df_abc, how = \"outer\", left_on = [\"Local ID\", \"Region\"],\n",
    "                                   right_on = [\"Local ID\", \"Region\"], indicator = True)\n",
    "\n",
    "merged_df_demo_abc = all_merged_df_demo_abc[all_merged_df_demo_abc['_merge']==\"both\"]\n",
    "\n",
    "## Look at row count\n",
    "print(all_merged_df_demo_abc.shape)\n",
    "print(all_merged_df_demo_abc[all_merged_df_demo_abc['_merge']==\"both\"].shape)\n",
    "print(all_merged_df_demo_abc[all_merged_df_demo_abc['_merge']==\"left_only\"].shape)\n",
    "print(all_merged_df_demo_abc[all_merged_df_demo_abc['_merge']==\"right_only\"].shape)\n"
   ]
  },
  {
   "cell_type": "code",
   "execution_count": 31,
   "id": "202fbe9f",
   "metadata": {},
   "outputs": [
    {
     "name": "stdout",
     "output_type": "stream",
     "text": [
      "(6759, 58)\n",
      "2017-11-13 00:56:58.529366528\n",
      "2019-11-30 19:19:01.463414528\n",
      "18.049541662375116\n",
      "17.982045039561775\n",
      "Stored 'merged_df_demo_abc' (DataFrame)\n",
      "Stored 'not_merged_df_demo_abc' (DataFrame)\n"
     ]
    }
   ],
   "source": [
    "## Post-diagnostics\n",
    "\n",
    "## Look at how many are missing\n",
    "not_merged_df_demo_abc = all_merged_df_demo_abc[(all_merged_df_demo_abc['_merge']==\"left_only\") |\n",
    "                                                (all_merged_df_demo_abc['_merge']==\"right_only\")]\n",
    "print(not_merged_df_demo_abc.shape)\n",
    "## Save those that did not merge as own dataframe -- lack ABC score\n",
    "\n",
    "## Compare demographics of those with ABC score that merged vs. those without\n",
    "\n",
    "## Dates that did not merge appear to be relatively more recent\n",
    "print(merged_df_demo_abc['Date Enrolled in START'].mean())\n",
    "print(not_merged_df_demo_abc['Date Enrolled in START'].mean())\n",
    "\n",
    "## Small difference in 'Irritability/Agitation' between those that merged and those that didn't\n",
    "print(merged_df_demo_abc['Irritability/Agitation'].mean())\n",
    "print(not_merged_df_demo_abc['Irritability/Agitation'].mean())\n",
    "\n",
    "%store merged_df_demo_abc\n",
    "%store not_merged_df_demo_abc\n"
   ]
  },
  {
   "cell_type": "code",
   "execution_count": null,
   "id": "aa60b224",
   "metadata": {},
   "outputs": [],
   "source": []
  },
  {
   "cell_type": "code",
   "execution_count": null,
   "id": "a8260ea0",
   "metadata": {},
   "outputs": [],
   "source": []
  }
 ],
 "metadata": {
  "kernelspec": {
   "display_name": "Python 3 (ipykernel)",
   "language": "python",
   "name": "python3"
  },
  "language_info": {
   "codemirror_mode": {
    "name": "ipython",
    "version": 3
   },
   "file_extension": ".py",
   "mimetype": "text/x-python",
   "name": "python",
   "nbconvert_exporter": "python",
   "pygments_lexer": "ipython3",
   "version": "3.9.7"
  }
 },
 "nbformat": 4,
 "nbformat_minor": 5
}
